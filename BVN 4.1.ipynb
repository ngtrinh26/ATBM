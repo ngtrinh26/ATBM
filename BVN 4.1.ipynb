{
 "cells": [
  {
   "cell_type": "code",
   "execution_count": 2,
   "id": "fb354a06",
   "metadata": {},
   "outputs": [
    {
     "name": "stdout",
     "output_type": "stream",
     "text": [
      "Plaintext : NguyenThiTrinh\n",
      "Key (chuẩn hóa): 24\n",
      "Ciphertext: LeswclRfgRpglf\n"
     ]
    }
   ],
   "source": [
    "plaintext = \"NguyenThiTrinh\"\n",
    "k = 50\n",
    "k = k % 26\n",
    "ciphertext = \"\"\n",
    "for ch in plaintext:\n",
    "    if ch.isalpha():  \n",
    "        if ch.isupper():\n",
    "            new_char = chr((ord(ch) - ord('A') + k) % 26 + ord('A'))\n",
    "        else:\n",
    "            new_char = chr((ord(ch) - ord('a') + k) % 26 + ord('a'))\n",
    "        ciphertext += new_char\n",
    "    else:\n",
    "        ciphertext += ch\n",
    "\n",
    "print(\"Plaintext :\", plaintext)\n",
    "print(\"Key (chuẩn hóa):\", k)\n",
    "print(\"Ciphertext:\", ciphertext)"
   ]
  }
 ],
 "metadata": {
  "kernelspec": {
   "display_name": "Python 3",
   "language": "python",
   "name": "python3"
  },
  "language_info": {
   "codemirror_mode": {
    "name": "ipython",
    "version": 3
   },
   "file_extension": ".py",
   "mimetype": "text/x-python",
   "name": "python",
   "nbconvert_exporter": "python",
   "pygments_lexer": "ipython3",
   "version": "3.12.8"
  }
 },
 "nbformat": 4,
 "nbformat_minor": 5
}
